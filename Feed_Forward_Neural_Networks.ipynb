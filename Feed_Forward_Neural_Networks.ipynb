{
  "nbformat": 4,
  "nbformat_minor": 0,
  "metadata": {
    "colab": {
      "name": "Feed Forward - Neural Networks",
      "provenance": [],
      "collapsed_sections": [],
      "authorship_tag": "ABX9TyNqxRHtNcdDaAHf8ankgIh0",
      "include_colab_link": true
    },
    "kernelspec": {
      "name": "python3",
      "display_name": "Python 3"
    },
    "language_info": {
      "name": "python"
    }
  },
  "cells": [
    {
      "cell_type": "markdown",
      "metadata": {
        "id": "view-in-github",
        "colab_type": "text"
      },
      "source": [
        "<a href=\"https://colab.research.google.com/github/danny1461/CSCI-191T-Machine-Learning/blob/main/Feed_Forward_Neural_Networks.ipynb\" target=\"_parent\"><img src=\"https://colab.research.google.com/assets/colab-badge.svg\" alt=\"Open In Colab\"/></a>"
      ]
    },
    {
      "cell_type": "code",
      "metadata": {
        "id": "8hQUKLzzMC4a"
      },
      "source": [
        "import math\n",
        "\n",
        "def linearSum(inputs, weights):\n",
        "\treturn sum([i*w for i, w in zip(inputs, weights)])\n",
        "\n",
        "def logisticalRegression(inputs, weights):\n",
        "\treturn 1 / (1 + math.e ** (-linearSum(inputs, weights)))\n",
        "\n",
        "class Graph:\n",
        "\tdef __init__(self):\n",
        "\t\tself.runs = 0\n",
        "\n",
        "\tdef setInputNodes(self, nodes):\n",
        "\t\tself.inputNodes = nodes\n",
        "\t\tfor node in self.inputNodes:\n",
        "\t\t\tnode.setGraph(self)\n",
        "\n",
        "\tdef setOutputNodes(self, nodes):\n",
        "\t\tself.outputNodes = nodes\n",
        "\n",
        "\tdef getInputByNdx(self, ndx):\n",
        "\t\treturn self.inputs[ndx]\n",
        "\n",
        "\tdef getRuns(self):\n",
        "\t\treturn self.runs\n",
        "\t\n",
        "\tdef runGraph(self, inputs):\n",
        "\t\tself.inputs = inputs\n",
        "\t\tself.runs += 1\n",
        "\n",
        "\t\treturn [n.getOutput(cacheKey = self.runs) for n in self.outputNodes]\n",
        "\n",
        "class Node:\n",
        "\tdef __init__(self, alg = logisticalRegression, inputs = [], weights = [], addConstant = True):\n",
        "\t\tself.cacheKey = None\n",
        "\t\tself.alg = alg\n",
        "\t\tself.setInputs(inputs, addConstant)\n",
        "\t\tself.setWeights(weights)\n",
        "\n",
        "\tdef setAlgorithm(self, alg):\n",
        "\t\tself.alg = alg\n",
        "\n",
        "\tdef setInputs(self, inputs, addConstant = True):\n",
        "\t\tself.inputs = inputs\n",
        "\t\tif addConstant:\n",
        "\t\t\tself.inputs.insert(0, 1)\n",
        "\n",
        "\tdef setWeights(self, weights):\n",
        "\t\tself.weights = weights\n",
        "\n",
        "\tdef getOutput(self, cacheKey = None):\n",
        "\t\tif cacheKey == None or self.cacheKey != cacheKey:\n",
        "\t\t\tinputs = [i.getOutput(cacheKey) if isinstance(i, Node) else i for i in self.inputs]\n",
        "\t\t\tfn = self.alg\n",
        "\t\t\tself.cache = fn(inputs, self.weights)\n",
        "\t\t\tself.cacheKey = cacheKey\n",
        "\n",
        "\t\treturn self.cache\n",
        "\n",
        "class InputNode(Node):\n",
        "\tdef __init__(self, ndx):\n",
        "\t\tself.inputNdx = ndx\n",
        "\n",
        "\tdef setGraph(self, graph):\n",
        "\t\tself.graph = graph\n",
        "\n",
        "\tdef getOutput(self, cacheKey = None):\n",
        "\t\treturn self.graph.getInputByNdx(self.inputNdx)"
      ],
      "execution_count": null,
      "outputs": []
    },
    {
      "cell_type": "code",
      "metadata": {
        "id": "aaMqjbQLMJtG"
      },
      "source": [
        "g = Graph()\n",
        "x1 = InputNode(0)\n",
        "x2 = InputNode(1)\n",
        "z1 = Node(inputs=[x1, x2], weights=[3.193049, 9.932781, -4.7466])\n",
        "z2 = Node(inputs=[x1, x2], weights=[-1.59451, 9.978797, 4.479537])\n",
        "y1 = Node(inputs=[z1, z2], weights=[0.326209, -8.71647, 8.390042], alg=linearSum)\n",
        "g.setInputNodes([x1, x2])\n",
        "g.setOutputNodes([y1])"
      ],
      "execution_count": null,
      "outputs": []
    },
    {
      "cell_type": "code",
      "metadata": {
        "id": "WYLgXgeyMLdi"
      },
      "source": [
        "tests = [ [0, 0], [0, 1], [1, 0], [1, 1] ]\n",
        "\n",
        "for testInputs in tests:\n",
        "\toutput = g.runGraph(testInputs)\n",
        "\n",
        "\tprint('inputs =', testInputs)\n",
        "\tprint('y1 =', output[0])\n",
        "\tprint('z1 =', z1.getOutput())\n",
        "\tprint('z2 =', z2.getOutput())\n",
        "\tprint('')"
      ],
      "execution_count": null,
      "outputs": []
    }
  ]
}